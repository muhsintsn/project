{
  "nbformat": 4,
  "nbformat_minor": 5,
  "metadata": {
    "colab": {
      "name": "istatistik ödev 5.ipynb",
      "provenance": [],
      "collapsed_sections": [],
      "include_colab_link": true
    },
    "kernelspec": {
      "display_name": "Python 3",
      "language": "python",
      "name": "python3"
    },
    "language_info": {
      "codemirror_mode": {
        "name": "ipython",
        "version": 3
      },
      "file_extension": ".py",
      "mimetype": "text/x-python",
      "name": "python",
      "nbconvert_exporter": "python",
      "pygments_lexer": "ipython3",
      "version": "3.8.8"
    }
  },
  "cells": [
    {
      "cell_type": "markdown",
      "metadata": {
        "id": "view-in-github",
        "colab_type": "text"
      },
      "source": [
        "<a href=\"https://colab.research.google.com/github/muhsintsn/python_Assignment_Project/blob/main/istatistik_%C3%B6dev_5.ipynb\" target=\"_parent\"><img src=\"https://colab.research.google.com/assets/colab-badge.svg\" alt=\"Open In Colab\"/></a>"
      ]
    },
    {
      "cell_type": "code",
      "metadata": {
        "colab": {
          "base_uri": "https://localhost:8080/"
        },
        "id": "93186ddb",
        "outputId": "7c4765bf-c1b7-4bee-cd9c-20851807071f"
      },
      "source": [
        "import scipy\n",
        "print(scipy.__version__)"
      ],
      "id": "93186ddb",
      "execution_count": null,
      "outputs": [
        {
          "name": "stdout",
          "output_type": "stream",
          "text": [
            "1.6.2\n"
          ]
        }
      ]
    },
    {
      "cell_type": "code",
      "metadata": {
        "id": "6f1fb97f"
      },
      "source": [
        "import numpy as np\n",
        "import scipy.stats as stats\n",
        "import matplotlib.pyplot as plt\n",
        "%matplotlib inline"
      ],
      "id": "6f1fb97f",
      "execution_count": null,
      "outputs": []
    },
    {
      "cell_type": "markdown",
      "metadata": {
        "id": "96ae2777"
      },
      "source": [
        "ALIŞTIRMA 1.  Belirli bir sektördeki saatlik ücretler normal olarak ortalama  mu  = 13,20$ ve standart sapma s d= 2,50$ ile dağıtılır. \n",
        "\n",
        "Bu sektördeki bir şirket 40 işçi çalıştırıyor ve onlara saatte ortalama 12,20 dolar ödüyor. Bu şirket standartların altında ücret ödemekle suçlanabilir mi? Bir α = .01 seviye testi kullanın. (Wackerly, Ör.10.18)\n",
        "\n",
        "\n",
        "\n",
        "KONTROL:\n",
        "istatistik: -2.5298221281347035, \n",
        "pdeğeri= 0.005706018193000826\n",
        "\n",
        "\n"
      ],
      "id": "96ae2777"
    },
    {
      "cell_type": "code",
      "metadata": {
        "id": "eafdabcc"
      },
      "source": [
        "mu = 13.20\n",
        "sd = 2.50\n",
        "n = 40\n",
        "x = 12.20\n",
        "alpha = 0.01"
      ],
      "id": "eafdabcc",
      "execution_count": null,
      "outputs": []
    },
    {
      "cell_type": "code",
      "metadata": {
        "colab": {
          "base_uri": "https://localhost:8080/"
        },
        "id": "3ec01528",
        "outputId": "00799226-04c5-4e67-ea67-e2a71afac7d8"
      },
      "source": [
        "# Ho : mu = 13.20\n",
        "# Ha : mu != 13.20\n",
        "z_stats = ((x - mu) / (sd/n**0.5))\n",
        "z_stats"
      ],
      "id": "3ec01528",
      "execution_count": null,
      "outputs": [
        {
          "data": {
            "text/plain": [
              "-2.5298221281347035"
            ]
          },
          "execution_count": 4,
          "metadata": {},
          "output_type": "execute_result"
        }
      ]
    },
    {
      "cell_type": "code",
      "metadata": {
        "colab": {
          "base_uri": "https://localhost:8080/"
        },
        "id": "EyiVmFl6Up1B",
        "outputId": "fc6b568f-e566-4108-fca2-831caa2bd74e"
      },
      "source": [
        "p_value = stats.norm.cdf(z_stats)\n",
        "p_value"
      ],
      "id": "EyiVmFl6Up1B",
      "execution_count": null,
      "outputs": [
        {
          "data": {
            "text/plain": [
              "0.005706018193000826"
            ]
          },
          "execution_count": 5,
          "metadata": {},
          "output_type": "execute_result"
        }
      ]
    },
    {
      "cell_type": "code",
      "metadata": {
        "colab": {
          "base_uri": "https://localhost:8080/"
        },
        "id": "c97efa25",
        "outputId": "ec899a83-f9c9-418d-d40c-a82fc4e7b7e0"
      },
      "source": [
        " #Decision\n",
        "alpha = 0.01\n",
        "\n",
        "if p_value < alpha:\n",
        "    print(\"Reject the null\")\n",
        "else:\n",
        "    print(\"Fail to reject the null\")"
      ],
      "id": "c97efa25",
      "execution_count": null,
      "outputs": [
        {
          "name": "stdout",
          "output_type": "stream",
          "text": [
            "Reject the null\n"
          ]
        }
      ]
    },
    {
      "cell_type": "code",
      "metadata": {
        "id": "176657d5"
      },
      "source": [
        ""
      ],
      "id": "176657d5",
      "execution_count": null,
      "outputs": []
    },
    {
      "cell_type": "markdown",
      "metadata": {
        "id": "9qeP9KpKXJAU"
      },
      "source": [
        "ALIŞTIRMA 2. İki tip zemin için serbest basınç testlerinden elde edilen kesme mukavemeti ölçümleri, aşağıdaki belgede gösterilen sonuçları verdi (ölçümler, fit kare başına ton olarak). Zeminler, %1 anlamlılık düzeyinde ortalama kesme dayanımına göre farklılık gösteriyor mu?\n",
        "\n",
        "\n",
        "KONTROL: \n",
        "\n",
        "istatistik: 5.1681473319343345,\n",
        "\n",
        "pvalue= 2.593228732352821e-06\n",
        "\n"
      ],
      "id": "9qeP9KpKXJAU"
    },
    {
      "cell_type": "code",
      "metadata": {
        "id": "SXdmDwtaYJ6i"
      },
      "source": [
        "import pandas as pd"
      ],
      "id": "SXdmDwtaYJ6i",
      "execution_count": null,
      "outputs": []
    },
    {
      "cell_type": "code",
      "metadata": {
        "colab": {
          "base_uri": "https://localhost:8080/",
          "height": 1000
        },
        "id": "69d936c1",
        "outputId": "0372cde1-3ded-401c-b2b9-0aa1d65da819"
      },
      "source": [
        "soil = pd.read_excel(\"soil.xlsx\")\n",
        "soil.head()"
      ],
      "id": "69d936c1",
      "execution_count": null,
      "outputs": [
        {
          "data": {
            "text/html": [
              "<div>\n",
              "<style scoped>\n",
              "    .dataframe tbody tr th:only-of-type {\n",
              "        vertical-align: middle;\n",
              "    }\n",
              "\n",
              "    .dataframe tbody tr th {\n",
              "        vertical-align: top;\n",
              "    }\n",
              "\n",
              "    .dataframe thead th {\n",
              "        text-align: right;\n",
              "    }\n",
              "</style>\n",
              "<table border=\"1\" class=\"dataframe\">\n",
              "  <thead>\n",
              "    <tr style=\"text-align: right;\">\n",
              "      <th></th>\n",
              "      <th>Soil1</th>\n",
              "      <th>Soil2</th>\n",
              "    </tr>\n",
              "  </thead>\n",
              "  <tbody>\n",
              "    <tr>\n",
              "      <th>0</th>\n",
              "      <td>1.442</td>\n",
              "      <td>1.364</td>\n",
              "    </tr>\n",
              "    <tr>\n",
              "      <th>1</th>\n",
              "      <td>1.943</td>\n",
              "      <td>1.878</td>\n",
              "    </tr>\n",
              "    <tr>\n",
              "      <th>2</th>\n",
              "      <td>1.110</td>\n",
              "      <td>1.337</td>\n",
              "    </tr>\n",
              "    <tr>\n",
              "      <th>3</th>\n",
              "      <td>1.912</td>\n",
              "      <td>1.828</td>\n",
              "    </tr>\n",
              "    <tr>\n",
              "      <th>4</th>\n",
              "      <td>1.553</td>\n",
              "      <td>1.371</td>\n",
              "    </tr>\n",
              "  </tbody>\n",
              "</table>\n",
              "</div>"
            ],
            "text/plain": [
              "   Soil1  Soil2\n",
              "0  1.442  1.364\n",
              "1  1.943  1.878\n",
              "2  1.110  1.337\n",
              "3  1.912  1.828\n",
              "4  1.553  1.371"
            ]
          },
          "execution_count": 34,
          "metadata": {},
          "output_type": "execute_result"
        }
      ]
    },
    {
      "cell_type": "code",
      "metadata": {
        "colab": {
          "base_uri": "https://localhost:8080/"
        },
        "id": "Fnlw9hAUY023",
        "outputId": "c628acb8-0100-449e-8392-de577e407b37"
      },
      "source": [
        "soil.isnull().sum()"
      ],
      "id": "Fnlw9hAUY023",
      "execution_count": null,
      "outputs": [
        {
          "data": {
            "text/plain": [
              "Soil1    5\n",
              "Soil2    0\n",
              "dtype: int64"
            ]
          },
          "execution_count": 10,
          "metadata": {},
          "output_type": "execute_result"
        }
      ]
    },
    {
      "cell_type": "code",
      "metadata": {
        "id": "qpveU1aHa-S4"
      },
      "source": [
        "#s1=soil.Soil1[soil.Soil1.notnull()]\n",
        "#s2=soil.Soil2"
      ],
      "id": "qpveU1aHa-S4",
      "execution_count": null,
      "outputs": []
    },
    {
      "cell_type": "code",
      "metadata": {
        "colab": {
          "base_uri": "https://localhost:8080/"
        },
        "id": "IoB5kDNhbSfw",
        "outputId": "22b38eef-58b0-4812-d0e4-5922efdc248e"
      },
      "source": [
        "s1=soil.Soil1.values[soil.Soil1.notnull()]\n",
        "s1"
      ],
      "id": "IoB5kDNhbSfw",
      "execution_count": null,
      "outputs": [
        {
          "data": {
            "text/plain": [
              "array([1.442, 1.943, 1.11 , 1.912, 1.553, 1.641, 1.499, 1.347, 1.685,\n",
              "       1.578, 1.866, 1.653, 1.665, 1.64 , 1.976, 1.754, 1.589, 1.976,\n",
              "       1.863, 1.932, 1.57 , 1.613, 2.054, 1.55 , 1.714, 1.896, 1.737,\n",
              "       1.74 , 1.708, 1.548])"
            ]
          },
          "execution_count": 12,
          "metadata": {},
          "output_type": "execute_result"
        }
      ]
    },
    {
      "cell_type": "code",
      "metadata": {
        "colab": {
          "base_uri": "https://localhost:8080/"
        },
        "id": "KH5S_5pzbt0g",
        "outputId": "c59bea42-dad5-4da3-d4ab-e444792974ab"
      },
      "source": [
        "s2=soil.Soil2.values\n",
        "s2"
      ],
      "id": "KH5S_5pzbt0g",
      "execution_count": null,
      "outputs": [
        {
          "data": {
            "text/plain": [
              "array([1.364, 1.878, 1.337, 1.828, 1.371, 1.428, 1.119, 1.373, 1.589,\n",
              "       1.714, 1.26 , 1.492, 1.395, 1.778, 1.611, 1.202, 1.542, 1.094,\n",
              "       1.557, 1.053, 1.183, 1.367, 1.144, 1.151, 1.561, 1.192, 1.489,\n",
              "       1.379, 1.501, 1.277, 1.593, 1.172, 1.51 , 1.74 , 1.355])"
            ]
          },
          "execution_count": 13,
          "metadata": {},
          "output_type": "execute_result"
        }
      ]
    },
    {
      "cell_type": "code",
      "metadata": {
        "colab": {
          "base_uri": "https://localhost:8080/"
        },
        "id": "chSr8QQQYdPj",
        "outputId": "364ef4bf-848f-49b8-b2a8-09786c8c686d"
      },
      "source": [
        "# Ho : mu1 = mu2\n",
        "# Ha : mu1 != mu2\n",
        "#alpha = 0.01\n",
        "\n",
        "test = stats.ttest_ind(s1,s2)\n",
        "test"
      ],
      "id": "chSr8QQQYdPj",
      "execution_count": null,
      "outputs": [
        {
          "data": {
            "text/plain": [
              "Ttest_indResult(statistic=5.1681473319343345, pvalue=2.593228732352821e-06)"
            ]
          },
          "execution_count": 14,
          "metadata": {},
          "output_type": "execute_result"
        }
      ]
    },
    {
      "cell_type": "code",
      "metadata": {
        "id": "b736df82"
      },
      "source": [
        ""
      ],
      "id": "b736df82",
      "execution_count": null,
      "outputs": []
    },
    {
      "cell_type": "markdown",
      "metadata": {
        "id": "KPxvQI6pdVAO"
      },
      "source": [
        "ALIŞTIRMA 4. Örnek veri seti, dört konu alanı için (100 puan üzerinden) yerleştirme testi puanlarına sahiptir: İngilizce, Okuma, Matematik ve Yazma. Örneklemdeki öğrenciler, üniversiteye kayıt olduklarında 4 yerleştirme sınavının hepsini tamamlamıştır. Özellikle İngilizce ve Matematik bölümleriyle ilgilendiğimizi ve öğrencilerin İngilizce veya Matematik sınavlarında ortalama olarak daha yüksek puan alıp almadıklarını belirlemek istediğimizi varsayalım. İki testin ortalamasında anlamlı bir fark olup olmadığını test etmek için eşleştirilmiş bir t testi kullanabiliriz.\n",
        "\n",
        "\n",
        "KONTROL:\n",
        "\n",
        "istatistik=36.312568981719856, \n",
        "\n",
        "pvalue=3.0710987192210606e-128\n",
        "\n",
        "\n"
      ],
      "id": "KPxvQI6pdVAO"
    },
    {
      "cell_type": "code",
      "metadata": {
        "id": "nL8tGPa6YdMf"
      },
      "source": [
        "student = pd.read_excel(\"students_2014.xlsx\")"
      ],
      "id": "nL8tGPa6YdMf",
      "execution_count": null,
      "outputs": []
    },
    {
      "cell_type": "code",
      "metadata": {
        "colab": {
          "base_uri": "https://localhost:8080/",
          "height": 309
        },
        "id": "fzF0_GyJYdIs",
        "outputId": "ac37ad08-566d-4d46-f683-e2aa82f9a7b2"
      },
      "source": [
        "student.head()\n"
      ],
      "id": "fzF0_GyJYdIs",
      "execution_count": null,
      "outputs": [
        {
          "data": {
            "text/html": [
              "<div>\n",
              "<style scoped>\n",
              "    .dataframe tbody tr th:only-of-type {\n",
              "        vertical-align: middle;\n",
              "    }\n",
              "\n",
              "    .dataframe tbody tr th {\n",
              "        vertical-align: top;\n",
              "    }\n",
              "\n",
              "    .dataframe thead th {\n",
              "        text-align: right;\n",
              "    }\n",
              "</style>\n",
              "<table border=\"1\" class=\"dataframe\">\n",
              "  <thead>\n",
              "    <tr style=\"text-align: right;\">\n",
              "      <th></th>\n",
              "      <th>ids</th>\n",
              "      <th>bday</th>\n",
              "      <th>enrolldate</th>\n",
              "      <th>expgradate</th>\n",
              "      <th>Rank</th>\n",
              "      <th>Major</th>\n",
              "      <th>Gender</th>\n",
              "      <th>Athlete</th>\n",
              "      <th>Height</th>\n",
              "      <th>Weight</th>\n",
              "      <th>...</th>\n",
              "      <th>English</th>\n",
              "      <th>Reading</th>\n",
              "      <th>Math</th>\n",
              "      <th>Writing</th>\n",
              "      <th>State</th>\n",
              "      <th>LiveOnCampus</th>\n",
              "      <th>HowCommute</th>\n",
              "      <th>CommuteTime</th>\n",
              "      <th>SleepTime</th>\n",
              "      <th>StudyTime</th>\n",
              "    </tr>\n",
              "  </thead>\n",
              "  <tbody>\n",
              "    <tr>\n",
              "      <th>0</th>\n",
              "      <td>43783</td>\n",
              "      <td>1995-03-22</td>\n",
              "      <td>NaT</td>\n",
              "      <td>NaT</td>\n",
              "      <td>NaN</td>\n",
              "      <td>NaN</td>\n",
              "      <td>0.0</td>\n",
              "      <td>0</td>\n",
              "      <td>72.35</td>\n",
              "      <td>NaN</td>\n",
              "      <td>...</td>\n",
              "      <td>88.24</td>\n",
              "      <td>81.50</td>\n",
              "      <td>60.02</td>\n",
              "      <td>81.44</td>\n",
              "      <td>In state</td>\n",
              "      <td>1.0</td>\n",
              "      <td>NaN</td>\n",
              "      <td>NaN</td>\n",
              "      <td>7.0</td>\n",
              "      <td>1.0</td>\n",
              "    </tr>\n",
              "    <tr>\n",
              "      <th>1</th>\n",
              "      <td>20278</td>\n",
              "      <td>1995-01-01</td>\n",
              "      <td>NaT</td>\n",
              "      <td>NaT</td>\n",
              "      <td>NaN</td>\n",
              "      <td>Philosophy</td>\n",
              "      <td>0.0</td>\n",
              "      <td>0</td>\n",
              "      <td>70.66</td>\n",
              "      <td>179.20</td>\n",
              "      <td>...</td>\n",
              "      <td>89.45</td>\n",
              "      <td>85.25</td>\n",
              "      <td>70.19</td>\n",
              "      <td>73.27</td>\n",
              "      <td>NaN</td>\n",
              "      <td>1.0</td>\n",
              "      <td>NaN</td>\n",
              "      <td>NaN</td>\n",
              "      <td>5.0</td>\n",
              "      <td>2.0</td>\n",
              "    </tr>\n",
              "    <tr>\n",
              "      <th>2</th>\n",
              "      <td>20389</td>\n",
              "      <td>1994-12-31</td>\n",
              "      <td>NaT</td>\n",
              "      <td>NaT</td>\n",
              "      <td>NaN</td>\n",
              "      <td>NaN</td>\n",
              "      <td>0.0</td>\n",
              "      <td>0</td>\n",
              "      <td>70.68</td>\n",
              "      <td>198.52</td>\n",
              "      <td>...</td>\n",
              "      <td>96.73</td>\n",
              "      <td>86.88</td>\n",
              "      <td>71.20</td>\n",
              "      <td>84.24</td>\n",
              "      <td>In state</td>\n",
              "      <td>NaN</td>\n",
              "      <td>NaN</td>\n",
              "      <td>NaN</td>\n",
              "      <td>8.0</td>\n",
              "      <td>7.0</td>\n",
              "    </tr>\n",
              "    <tr>\n",
              "      <th>3</th>\n",
              "      <td>22820</td>\n",
              "      <td>1994-12-01</td>\n",
              "      <td>NaT</td>\n",
              "      <td>NaT</td>\n",
              "      <td>NaN</td>\n",
              "      <td>business administration</td>\n",
              "      <td>1.0</td>\n",
              "      <td>0</td>\n",
              "      <td>NaN</td>\n",
              "      <td>198.34</td>\n",
              "      <td>...</td>\n",
              "      <td>74.06</td>\n",
              "      <td>88.68</td>\n",
              "      <td>55.89</td>\n",
              "      <td>73.16</td>\n",
              "      <td>In state</td>\n",
              "      <td>1.0</td>\n",
              "      <td>NaN</td>\n",
              "      <td>NaN</td>\n",
              "      <td>2.0</td>\n",
              "      <td>6.0</td>\n",
              "    </tr>\n",
              "    <tr>\n",
              "      <th>4</th>\n",
              "      <td>24559</td>\n",
              "      <td>1994-11-10</td>\n",
              "      <td>NaT</td>\n",
              "      <td>NaT</td>\n",
              "      <td>NaN</td>\n",
              "      <td>NaN</td>\n",
              "      <td>1.0</td>\n",
              "      <td>1</td>\n",
              "      <td>67.43</td>\n",
              "      <td>128.17</td>\n",
              "      <td>...</td>\n",
              "      <td>82.61</td>\n",
              "      <td>77.30</td>\n",
              "      <td>65.52</td>\n",
              "      <td>80.45</td>\n",
              "      <td>Out of state</td>\n",
              "      <td>1.0</td>\n",
              "      <td>NaN</td>\n",
              "      <td>NaN</td>\n",
              "      <td>7.0</td>\n",
              "      <td>3.0</td>\n",
              "    </tr>\n",
              "  </tbody>\n",
              "</table>\n",
              "<p>5 rows × 23 columns</p>\n",
              "</div>"
            ],
            "text/plain": [
              "     ids       bday enrolldate expgradate  Rank                    Major  \\\n",
              "0  43783 1995-03-22        NaT        NaT   NaN                      NaN   \n",
              "1  20278 1995-01-01        NaT        NaT   NaN               Philosophy   \n",
              "2  20389 1994-12-31        NaT        NaT   NaN                      NaN   \n",
              "3  22820 1994-12-01        NaT        NaT   NaN  business administration   \n",
              "4  24559 1994-11-10        NaT        NaT   NaN                      NaN   \n",
              "\n",
              "   Gender  Athlete  Height  Weight  ...  English  Reading   Math  Writing  \\\n",
              "0     0.0        0   72.35     NaN  ...    88.24    81.50  60.02    81.44   \n",
              "1     0.0        0   70.66  179.20  ...    89.45    85.25  70.19    73.27   \n",
              "2     0.0        0   70.68  198.52  ...    96.73    86.88  71.20    84.24   \n",
              "3     1.0        0     NaN  198.34  ...    74.06    88.68  55.89    73.16   \n",
              "4     1.0        1   67.43  128.17  ...    82.61    77.30  65.52    80.45   \n",
              "\n",
              "          State  LiveOnCampus  HowCommute CommuteTime  SleepTime  StudyTime  \n",
              "0      In state           1.0         NaN         NaN        7.0        1.0  \n",
              "1           NaN           1.0         NaN         NaN        5.0        2.0  \n",
              "2      In state           NaN         NaN         NaN        8.0        7.0  \n",
              "3      In state           1.0         NaN         NaN        2.0        6.0  \n",
              "4  Out of state           1.0         NaN         NaN        7.0        3.0  \n",
              "\n",
              "[5 rows x 23 columns]"
            ]
          },
          "execution_count": 16,
          "metadata": {},
          "output_type": "execute_result"
        }
      ]
    },
    {
      "cell_type": "code",
      "metadata": {
        "colab": {
          "base_uri": "https://localhost:8080/"
        },
        "id": "863a0fd4",
        "outputId": "21892bf1-364a-4b15-83fb-d5397a119e1b"
      },
      "source": [
        "student.isnull().sum()"
      ],
      "id": "863a0fd4",
      "execution_count": null,
      "outputs": [
        {
          "data": {
            "text/plain": [
              "ids               0\n",
              "bday              8\n",
              "enrolldate       29\n",
              "expgradate       29\n",
              "Rank             29\n",
              "Major           159\n",
              "Gender            9\n",
              "Athlete           0\n",
              "Height           27\n",
              "Weight           59\n",
              "Smoking          24\n",
              "Sprint           61\n",
              "MileMinDur       43\n",
              "English          26\n",
              "Reading          10\n",
              "Math             13\n",
              "Writing          31\n",
              "State            27\n",
              "LiveOnCampus     21\n",
              "HowCommute      188\n",
              "CommuteTime     188\n",
              "SleepTime        32\n",
              "StudyTime        42\n",
              "dtype: int64"
            ]
          },
          "execution_count": 17,
          "metadata": {},
          "output_type": "execute_result"
        }
      ]
    },
    {
      "cell_type": "code",
      "metadata": {
        "colab": {
          "base_uri": "https://localhost:8080/",
          "height": 204
        },
        "id": "ezikuMWSmMLU",
        "outputId": "b6293c9c-8a6b-405f-d044-247a7209ff57"
      },
      "source": [
        "less = student[['English', 'Math']]\n",
        "less.head()"
      ],
      "id": "ezikuMWSmMLU",
      "execution_count": null,
      "outputs": [
        {
          "data": {
            "text/html": [
              "<div>\n",
              "<style scoped>\n",
              "    .dataframe tbody tr th:only-of-type {\n",
              "        vertical-align: middle;\n",
              "    }\n",
              "\n",
              "    .dataframe tbody tr th {\n",
              "        vertical-align: top;\n",
              "    }\n",
              "\n",
              "    .dataframe thead th {\n",
              "        text-align: right;\n",
              "    }\n",
              "</style>\n",
              "<table border=\"1\" class=\"dataframe\">\n",
              "  <thead>\n",
              "    <tr style=\"text-align: right;\">\n",
              "      <th></th>\n",
              "      <th>English</th>\n",
              "      <th>Math</th>\n",
              "    </tr>\n",
              "  </thead>\n",
              "  <tbody>\n",
              "    <tr>\n",
              "      <th>0</th>\n",
              "      <td>88.24</td>\n",
              "      <td>60.02</td>\n",
              "    </tr>\n",
              "    <tr>\n",
              "      <th>1</th>\n",
              "      <td>89.45</td>\n",
              "      <td>70.19</td>\n",
              "    </tr>\n",
              "    <tr>\n",
              "      <th>2</th>\n",
              "      <td>96.73</td>\n",
              "      <td>71.20</td>\n",
              "    </tr>\n",
              "    <tr>\n",
              "      <th>3</th>\n",
              "      <td>74.06</td>\n",
              "      <td>55.89</td>\n",
              "    </tr>\n",
              "    <tr>\n",
              "      <th>4</th>\n",
              "      <td>82.61</td>\n",
              "      <td>65.52</td>\n",
              "    </tr>\n",
              "  </tbody>\n",
              "</table>\n",
              "</div>"
            ],
            "text/plain": [
              "   English   Math\n",
              "0    88.24  60.02\n",
              "1    89.45  70.19\n",
              "2    96.73  71.20\n",
              "3    74.06  55.89\n",
              "4    82.61  65.52"
            ]
          },
          "execution_count": 18,
          "metadata": {},
          "output_type": "execute_result"
        }
      ]
    },
    {
      "cell_type": "code",
      "metadata": {
        "colab": {
          "base_uri": "https://localhost:8080/"
        },
        "id": "ksB6y8ibjVat",
        "outputId": "800f624d-5eca-4c16-9e6e-9ae2dd2c45d7"
      },
      "source": [
        "less.isnull().sum()\n"
      ],
      "id": "ksB6y8ibjVat",
      "execution_count": null,
      "outputs": [
        {
          "data": {
            "text/plain": [
              "English    26\n",
              "Math       13\n",
              "dtype: int64"
            ]
          },
          "execution_count": 19,
          "metadata": {},
          "output_type": "execute_result"
        }
      ]
    },
    {
      "cell_type": "code",
      "metadata": {
        "colab": {
          "base_uri": "https://localhost:8080/"
        },
        "id": "fd49a4f3",
        "outputId": "67a006cc-bd46-4d23-c54a-1d50201b7c37"
      },
      "source": [
        "less.dropna(inplace=True)\n"
      ],
      "id": "fd49a4f3",
      "execution_count": null,
      "outputs": [
        {
          "name": "stderr",
          "output_type": "stream",
          "text": [
            "<ipython-input-20-7a19e86bd3f3>:1: SettingWithCopyWarning: \n",
            "A value is trying to be set on a copy of a slice from a DataFrame\n",
            "\n",
            "See the caveats in the documentation: https://pandas.pydata.org/pandas-docs/stable/user_guide/indexing.html#returning-a-view-versus-a-copy\n",
            "  less.dropna(inplace=True)\n"
          ]
        }
      ]
    },
    {
      "cell_type": "code",
      "metadata": {
        "colab": {
          "base_uri": "https://localhost:8080/",
          "height": 419
        },
        "id": "uRpeg0datTxG",
        "outputId": "04466458-31b6-43a6-cadf-7b4aa3f6cd58"
      },
      "source": [
        "less"
      ],
      "id": "uRpeg0datTxG",
      "execution_count": null,
      "outputs": [
        {
          "data": {
            "text/html": [
              "<div>\n",
              "<style scoped>\n",
              "    .dataframe tbody tr th:only-of-type {\n",
              "        vertical-align: middle;\n",
              "    }\n",
              "\n",
              "    .dataframe tbody tr th {\n",
              "        vertical-align: top;\n",
              "    }\n",
              "\n",
              "    .dataframe thead th {\n",
              "        text-align: right;\n",
              "    }\n",
              "</style>\n",
              "<table border=\"1\" class=\"dataframe\">\n",
              "  <thead>\n",
              "    <tr style=\"text-align: right;\">\n",
              "      <th></th>\n",
              "      <th>English</th>\n",
              "      <th>Math</th>\n",
              "    </tr>\n",
              "  </thead>\n",
              "  <tbody>\n",
              "    <tr>\n",
              "      <th>0</th>\n",
              "      <td>88.24</td>\n",
              "      <td>60.02</td>\n",
              "    </tr>\n",
              "    <tr>\n",
              "      <th>1</th>\n",
              "      <td>89.45</td>\n",
              "      <td>70.19</td>\n",
              "    </tr>\n",
              "    <tr>\n",
              "      <th>2</th>\n",
              "      <td>96.73</td>\n",
              "      <td>71.20</td>\n",
              "    </tr>\n",
              "    <tr>\n",
              "      <th>3</th>\n",
              "      <td>74.06</td>\n",
              "      <td>55.89</td>\n",
              "    </tr>\n",
              "    <tr>\n",
              "      <th>4</th>\n",
              "      <td>82.61</td>\n",
              "      <td>65.52</td>\n",
              "    </tr>\n",
              "    <tr>\n",
              "      <th>...</th>\n",
              "      <td>...</td>\n",
              "      <td>...</td>\n",
              "    </tr>\n",
              "    <tr>\n",
              "      <th>430</th>\n",
              "      <td>87.72</td>\n",
              "      <td>65.31</td>\n",
              "    </tr>\n",
              "    <tr>\n",
              "      <th>431</th>\n",
              "      <td>91.01</td>\n",
              "      <td>70.25</td>\n",
              "    </tr>\n",
              "    <tr>\n",
              "      <th>432</th>\n",
              "      <td>81.05</td>\n",
              "      <td>58.16</td>\n",
              "    </tr>\n",
              "    <tr>\n",
              "      <th>433</th>\n",
              "      <td>75.59</td>\n",
              "      <td>66.84</td>\n",
              "    </tr>\n",
              "    <tr>\n",
              "      <th>434</th>\n",
              "      <td>75.65</td>\n",
              "      <td>60.24</td>\n",
              "    </tr>\n",
              "  </tbody>\n",
              "</table>\n",
              "<p>398 rows × 2 columns</p>\n",
              "</div>"
            ],
            "text/plain": [
              "     English   Math\n",
              "0      88.24  60.02\n",
              "1      89.45  70.19\n",
              "2      96.73  71.20\n",
              "3      74.06  55.89\n",
              "4      82.61  65.52\n",
              "..       ...    ...\n",
              "430    87.72  65.31\n",
              "431    91.01  70.25\n",
              "432    81.05  58.16\n",
              "433    75.59  66.84\n",
              "434    75.65  60.24\n",
              "\n",
              "[398 rows x 2 columns]"
            ]
          },
          "execution_count": 21,
          "metadata": {},
          "output_type": "execute_result"
        }
      ]
    },
    {
      "cell_type": "code",
      "metadata": {
        "id": "zgAbSSHpt8gE"
      },
      "source": [
        "# Ho : mu1 = mu2\n",
        "# Ha : mu != mu2"
      ],
      "id": "zgAbSSHpt8gE",
      "execution_count": null,
      "outputs": []
    },
    {
      "cell_type": "code",
      "metadata": {
        "id": "odmMkuAjuGYw"
      },
      "source": [
        "mu1 = less.English\n",
        "mu2 = less.Math"
      ],
      "id": "odmMkuAjuGYw",
      "execution_count": null,
      "outputs": []
    },
    {
      "cell_type": "code",
      "metadata": {
        "colab": {
          "base_uri": "https://localhost:8080/"
        },
        "id": "60e0052c",
        "outputId": "8f7a1d60-591e-473a-f6dd-d9f0e694dbad"
      },
      "source": [
        "# Ho : mu1 = mu2\n",
        "# Ha : mu1 != mu2\n",
        "\n",
        "\n",
        "stats.ttest_rel(mu1,mu2)\n"
      ],
      "id": "60e0052c",
      "execution_count": null,
      "outputs": [
        {
          "data": {
            "text/plain": [
              "Ttest_relResult(statistic=36.312568981719856, pvalue=3.0710987192210606e-128)"
            ]
          },
          "execution_count": 33,
          "metadata": {},
          "output_type": "execute_result"
        }
      ]
    }
  ]
}