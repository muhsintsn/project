{
  "nbformat": 4,
  "nbformat_minor": 0,
  "metadata": {
    "colab": {
      "name": "soru çözümü Raife hoca. 6.8.2021.ipynb",
      "provenance": [],
      "collapsed_sections": [],
      "include_colab_link": true
    },
    "kernelspec": {
      "name": "python3",
      "display_name": "Python 3"
    },
    "language_info": {
      "name": "python"
    }
  },
  "cells": [
    {
      "cell_type": "markdown",
      "metadata": {
        "id": "view-in-github",
        "colab_type": "text"
      },
      "source": [
        "<a href=\"https://colab.research.google.com/github/muhsintsn/python-project/blob/main/soru_%C3%A7%C3%B6z%C3%BCm%C3%BC_Raife_hoca_6_8_2021.ipynb\" target=\"_parent\"><img src=\"https://colab.research.google.com/assets/colab-badge.svg\" alt=\"Open In Colab\"/></a>"
      ]
    },
    {
      "cell_type": "code",
      "metadata": {
        "colab": {
          "base_uri": "https://localhost:8080/"
        },
        "id": "qntlQI8jQ_vY",
        "outputId": "92bab83e-e3c3-4df4-8223-71e3eb4b4006"
      },
      "source": [
        "tek= []\n",
        "for i in range(1,10):\n",
        "  if i % 2 != 0:\n",
        "    print(tek.append(i))\n",
        "    print(tek)\n",
        "  else:\n",
        "    print(i)\n",
        "\n",
        "print(i)\n",
        "  \n",
        "    "
      ],
      "execution_count": null,
      "outputs": [
        {
          "output_type": "stream",
          "text": [
            "None\n",
            "[1]\n",
            "2\n",
            "None\n",
            "[1, 3]\n",
            "4\n",
            "None\n",
            "[1, 3, 5]\n",
            "6\n",
            "None\n",
            "[1, 3, 5, 7]\n",
            "8\n",
            "None\n",
            "[1, 3, 5, 7, 9]\n",
            "9\n"
          ],
          "name": "stdout"
        }
      ]
    },
    {
      "cell_type": "code",
      "metadata": {
        "colab": {
          "base_uri": "https://localhost:8080/"
        },
        "id": "ixLXlqAgT5IP",
        "outputId": "427c97ee-f1ea-4314-f9bf-d6301ee8d821"
      },
      "source": [
        "i=()\n",
        "for i in range(1,10):\n",
        "    if i % 2 == 0:\n",
        "      print(i,\"çift sayı\")"
      ],
      "execution_count": null,
      "outputs": [
        {
          "output_type": "stream",
          "text": [
            "2 çift sayı\n",
            "4 çift sayı\n",
            "6 çift sayı\n",
            "8 çift sayı\n"
          ],
          "name": "stdout"
        }
      ]
    },
    {
      "cell_type": "code",
      "metadata": {
        "colab": {
          "base_uri": "https://localhost:8080/"
        },
        "id": "a92pow-Ahb9v",
        "outputId": "7e9402e1-252c-4200-c452-2d3300a57370"
      },
      "source": [
        "range(sayi1,sayi2 + 1)"
      ],
      "execution_count": null,
      "outputs": [
        {
          "output_type": "execute_result",
          "data": {
            "text/plain": [
              "range(1, 7)"
            ]
          },
          "metadata": {
            "tags": []
          },
          "execution_count": 92
        }
      ]
    },
    {
      "cell_type": "code",
      "metadata": {
        "colab": {
          "base_uri": "https://localhost:8080/"
        },
        "id": "hcKB3_XdgtoA",
        "outputId": "c315779e-f63d-4231-9724-e3b84d0fc423"
      },
      "source": [
        "sayi1 = int(input(\"Sayı 1: \"))\n",
        "sayi2 = int(input(\"Sayı 2: \"))\n",
        "  \n",
        "for sayi in range(sayi1,sayi2 + 1):\n",
        "   if sayi > 1:\n",
        "       for i in range(2,sayi):\n",
        "           if (sayi % i) == 0:\n",
        "               break\n",
        "       else:\n",
        "           print(sayi)\n",
        "print(sayi1,\"ile\",sayi2,\"arasındaki asal sayılar:\")"
      ],
      "execution_count": null,
      "outputs": [
        {
          "output_type": "stream",
          "text": [
            "Sayı 1: 1\n",
            "Sayı 2: 6\n",
            "1 ile 6 arasındaki asal sayılar:\n",
            "2\n",
            "3\n",
            "5\n",
            "1 ile 6 arasındaki asal sayılar:\n"
          ],
          "name": "stdout"
        }
      ]
    },
    {
      "cell_type": "markdown",
      "metadata": {
        "id": "r9B45NdlOz1t"
      },
      "source": [
        "```\n",
        "1 Sansürlü kelimeyi düzeltelim\n",
        "print(sansür(\"pyth*n\", \"o\")) ---> python\n",
        "print(sansür(\"*r*b*m* p*rk *tt*m\",\"aaaıaei\"))  --> arabamı park ettim\n",
        "```\n",
        "\n"
      ]
    },
    {
      "cell_type": "code",
      "metadata": {
        "id": "Myfr5AZgmyhr"
      },
      "source": [
        "def sansür(sansürlü, sesli):\n",
        "  n = 0\n",
        "  for i in sansürlü:\n",
        "    if i == \"*\":\n",
        "      sansürlü=sansürlü.rplace(\"*\",sesli[n],1)\n",
        "      n+=1\n",
        "  return sansürlü\n",
        "print(sansür(\"pyh*n\", \"o\"))\n",
        "print(sansür(\"*r*b*m* p*rk *tt*m\",\"aaaıaei\"))"
      ],
      "execution_count": null,
      "outputs": []
    },
    {
      "cell_type": "code",
      "metadata": {
        "id": "L-eurOZIom-u"
      },
      "source": [
        "def sansür(sansürlü, sesli):\n",
        "  n=0\n",
        "  for i in sansürlü:\n",
        "    if i=='*':\n",
        "      sansürlü=sansürlü.replace('*',sesli[n],1)\n",
        "      n+=1\n",
        "  return sansürlü\n",
        "print(sansür(\"pyth*n\", \"o\")) \n",
        "print(sansür(\"*r*b*m* p*rk *tt*m\",\"aiaıaei\"))"
      ],
      "execution_count": null,
      "outputs": []
    },
    {
      "cell_type": "markdown",
      "metadata": {
        "id": "Q5AiEAoiPHH-"
      },
      "source": [
        "```\n",
        "2. Girdisi string olan ifadenin içerisindeki harflerin türkçe alfabesindeki yerlerini bulup, hepsinin değerlerini toplayıp sonuç çiftse True tekse False yazdıran bir fonksiyon yazınız.\n",
        "print(kelime_cift_mi(\"Bilgisayar\")) -->True\n",
        "```\n",
        "\n"
      ]
    },
    {
      "cell_type": "code",
      "metadata": {
        "id": "mwS5WhRsouFl"
      },
      "source": [
        "def kelime_çift_mi(cümle):\n",
        "  "
      ],
      "execution_count": null,
      "outputs": []
    },
    {
      "cell_type": "code",
      "metadata": {
        "id": "bJx-D8jBotpQ"
      },
      "source": [
        "def kelime_cift_mi(cümle):\n",
        "  kucuk=\"abcçdefgğhıijklmnoöprsştuüvyz\"\n",
        "  toplam=0\n",
        "  for i in cümle.lower():\n",
        "    if i in kucuk:\n",
        "      toplam+=kucuk.index(i)+1\n",
        "  if toplam % 2 == 0:\n",
        "    return True\n",
        "  else:\n",
        "    return False\n",
        "print(kelime_cift_mi(\"B ç\"))"
      ],
      "execution_count": null,
      "outputs": []
    },
    {
      "cell_type": "markdown",
      "metadata": {
        "id": "yUnkroayPGvn"
      },
      "source": [
        "\n",
        "```\n",
        " 3. Write a program to prompt the user for hours and rate per hour using input to compute gross pay. Pay should be the normal rate for hours up to 40 and time-and-a-half for the hourly rate for all hours worked above 40 hours. Put the logic to do the computation of pay in a function called computepay() and use the function to do the computation. The function should return a value. Use 45 hours and a rate of 10.50 per hour to test the program (the pay should be 498.75). You should use input to read a string and float() to convert the string to a number. Do not worry about error checking the user input unless you want to - you can assume the user types numbers properly. Do not name your variable sum or use the sum() function\n",
        "\n",
        "```\n",
        "\n"
      ]
    },
    {
      "cell_type": "code",
      "metadata": {
        "colab": {
          "base_uri": "https://localhost:8080/"
        },
        "id": "PRPNfMmorI8l",
        "outputId": "5ece5fd2-c29e-44b8-a864-9175d0e1beb5"
      },
      "source": [
        "def compute_pay(h, r):\n",
        "  if h > 40:\n",
        "    p = 40*r + (h - 40) * r * 1.5\n",
        "  else:\n",
        "    p = h * r\n",
        "  return p\n",
        "compute_pay(45, 2)"
      ],
      "execution_count": null,
      "outputs": [
        {
          "output_type": "execute_result",
          "data": {
            "text/plain": [
              "95.0"
            ]
          },
          "metadata": {
            "tags": []
          },
          "execution_count": 4
        }
      ]
    },
    {
      "cell_type": "code",
      "metadata": {
        "id": "uEus43zCrIuL"
      },
      "source": [
        "def compute_pay(h, r):\n",
        "  if h > 40:\n",
        "    p = 40*r + (h-40) * r* 1.5\n",
        "  else:\n",
        "    p= h*r\n",
        "  return p\n",
        "compute_pay(45, 2)"
      ],
      "execution_count": null,
      "outputs": []
    },
    {
      "cell_type": "markdown",
      "metadata": {
        "id": "agUSmN0iPGqB"
      },
      "source": [
        "```\n",
        "4. Sayının faktöriyelini hesaplayan fonksiyon yazalım.\n",
        "```\n",
        "\n",
        "\n"
      ]
    },
    {
      "cell_type": "code",
      "metadata": {
        "id": "PHk0-06vsTHi"
      },
      "source": [
        "def factoriel(sayı):\n",
        "  sonuç = 1\n",
        "  i = 1\n",
        "  while i < sayı + 1:\n",
        "    sonuç * = i\n",
        "    i += 1\n",
        "  return sunuç\n"
      ],
      "execution_count": null,
      "outputs": []
    },
    {
      "cell_type": "code",
      "metadata": {
        "id": "wYO_zcM5sS5T"
      },
      "source": [
        "def factoriel(sayı):\n",
        "  sonuç = 1\n",
        "  for i range(1, sayı+1):\n",
        "    sonuç * = i\n",
        "  return sunuç"
      ],
      "execution_count": null,
      "outputs": []
    },
    {
      "cell_type": "code",
      "metadata": {
        "id": "eDJ2Bhpltih5"
      },
      "source": [
        "def factoriel(sayi):\n",
        "  sonuc = 1\n",
        "  i = 1\n",
        "  while i <sayi+1:\n",
        "    sonuc*=i\n",
        "    i+=1\n",
        "  return sonuc\n",
        "factoriel(4)"
      ],
      "execution_count": null,
      "outputs": []
    },
    {
      "cell_type": "code",
      "metadata": {
        "id": "YUBGM5d1tiZo"
      },
      "source": [
        "def factoriel(sayi):\n",
        "  sonuc = 1\n",
        "  for i in range(1,sayi+1):\n",
        "    sonuc*=i\n",
        "  return sonuc\n",
        "factoriel(5)"
      ],
      "execution_count": null,
      "outputs": []
    },
    {
      "cell_type": "markdown",
      "metadata": {
        "id": "tPWXxyrEPGmw"
      },
      "source": [
        "```\n",
        "5. Sayı ve string paramestresi alan, sayıyı geriye doğru aralarında * olacak şekilde yazdıran, sonuna verilen stringi büyük harflerle ekleyen ve en sona ! işareti koyan bir fonksiyon yazalım\n",
        " ÖRNEK\n",
        "geri_say(3,\"go\")--> \"3*2*1*GO!\"**kalın metin**\n",
        "```\n",
        "\n"
      ]
    },
    {
      "cell_type": "code",
      "metadata": {
        "id": "tOK1Rjdotsoz"
      },
      "source": [
        "def geri_say(n, yazı):\n",
        "  sonuç = \"\"\n",
        "  for i in range(n,0,-1):\n",
        "    sonuç += str(i) + \"*\"\n",
        "  sonuç += yazı.upper() + \"!\"\n",
        "  return sonuç(5, \"go\")"
      ],
      "execution_count": null,
      "outputs": []
    },
    {
      "cell_type": "code",
      "metadata": {
        "id": "9vrQWWYrtslA"
      },
      "source": [
        "def geri_say(n, yazi):\n",
        "  sonuc = ''\n",
        "  for i in range(n,0,-1):\n",
        "    sonuc += str(i) + '*'\n",
        "  sonuc+= yazi.upper() + '!'\n",
        "  return sonuc\n",
        "geri_say(3,\"go\")"
      ],
      "execution_count": null,
      "outputs": []
    },
    {
      "cell_type": "code",
      "metadata": {
        "id": "usDaccHUtsjM"
      },
      "source": [
        ""
      ],
      "execution_count": null,
      "outputs": []
    },
    {
      "cell_type": "markdown",
      "metadata": {
        "id": "X0np6sCFPGjA"
      },
      "source": [
        "```\n",
        "6. Arif ve Raife listede yanyana duruyorlasa True döndüren durmuyorlarsa False döndüren bir fonksiyon yazalım.\n",
        "print(yan_yana_mı([\"Arif\",\"Raife\",\"Nihal\"])) --> True\n",
        "print(yan_yana_mı([\"Arif\",\"Nihal\",\"Raife\"])) --> False\n",
        "```\n",
        "\n"
      ]
    },
    {
      "cell_type": "code",
      "metadata": {
        "id": "9fl_Zd6evNDO"
      },
      "source": [
        "def yan_yan_mı(liste):\n",
        "  for i in liste:\n",
        "    if liste.index(\"Arif\")+1 == liste.index(\"Raife\")+1 or liste.index('Arif') == liste.index('Raife') +1:"
      ],
      "execution_count": null,
      "outputs": []
    },
    {
      "cell_type": "code",
      "metadata": {
        "id": "Ds7Kpzhrv4-H"
      },
      "source": [
        "def yan_yana_mi(liste):\n",
        "  for i in liste:\n",
        "    if liste.index('Arif')+1 == liste.index('Raife') or liste.index('Arif') == liste.index('Raife') +1:\n",
        "      return True\n",
        "    else:\n",
        "      return False\n",
        "print(yan_yana_mi([\"Arif\",\"Raife\",\"Nihal\"]))\n",
        "print(yan_yana_mi([\"Arif\",\"Nihal\",\"Raife\"]))"
      ],
      "execution_count": null,
      "outputs": []
    },
    {
      "cell_type": "code",
      "metadata": {
        "id": "glG4GWfWv5tx"
      },
      "source": [
        ""
      ],
      "execution_count": null,
      "outputs": []
    },
    {
      "cell_type": "markdown",
      "metadata": {
        "id": "o8RAQ9ZpPGcN"
      },
      "source": [
        "```\n",
        "7. Listedeki her elemanı kendi indexi ile çarpıp toplamı veren bir fonksiyon yazalım.\n",
        "print(carpip_topla([1,2,3,4,5,6,7,8,9,10])) --> 330\n",
        "```\n",
        "\n",
        "\n",
        "\n"
      ]
    },
    {
      "cell_type": "code",
      "metadata": {
        "id": "GdBvDU8awjcI"
      },
      "source": [
        "def çarpip_topla(liste):\n",
        "  toplam = 0\n",
        "  for i in range(len(liste)):\n",
        "    toplam += i* liste [i]\n",
        "  return toplam"
      ],
      "execution_count": null,
      "outputs": []
    },
    {
      "cell_type": "code",
      "metadata": {
        "id": "F2Wdn7IDwidk"
      },
      "source": [
        "def çarpip_topla(liste):   # yanlış hatalı sonuç veriyor \n",
        "  toplam = 0\n",
        "  for i in liste:\n",
        "    toplam += i* liste.index(i)\n",
        "  return toplam\n",
        "çarpıp_topla"
      ],
      "execution_count": null,
      "outputs": []
    },
    {
      "cell_type": "code",
      "metadata": {
        "id": "UTNeqIzFyAuQ"
      },
      "source": [
        "def carpıp_topla(liste):\n",
        "  toplam = 0\n",
        "  for i in range(len(liste)):\n",
        "    toplam += i* liste [i]\n",
        "  return toplam\n",
        "carpıp_topla([1,1])"
      ],
      "execution_count": null,
      "outputs": []
    },
    {
      "cell_type": "code",
      "metadata": {
        "id": "tzbI-NZIyF6H"
      },
      "source": [
        "#hatalı çözüm\n",
        "def carpıp_topla(liste):\n",
        "  toplam = 0\n",
        "  for i in liste:\n",
        "    toplam += i* liste.index(i)\n",
        "  return toplam\n",
        "carpıp_topla([1,1])"
      ],
      "execution_count": null,
      "outputs": []
    },
    {
      "cell_type": "code",
      "metadata": {
        "id": "6t_WJqaJyAi7"
      },
      "source": [
        ""
      ],
      "execution_count": null,
      "outputs": []
    },
    {
      "cell_type": "markdown",
      "metadata": {
        "id": "6eFw-Cy2PGYg"
      },
      "source": [
        "```\n",
        "8. Cümledeki sayı ve harflerin sayısını bulan bir fonksiyon yazalım\n",
        "print(harf_sayi_sayisi(\"10'a kadar saysam ve sonrasında hayat bayram olsa.\")) --> Harfler: 39, Sayılar: 2\n",
        "\n",
        "```\n",
        "\n",
        "\n"
      ]
    },
    {
      "cell_type": "code",
      "metadata": {
        "id": "b2d-PTSRyJO0"
      },
      "source": [
        "def harf_sayı_sayısı(cümle)\n",
        "  h = 0\n",
        "  s = 0\n",
        "  for i in cümle:\n",
        "    if i.isalpha():\n",
        "      h+=1\n",
        "    elif i.isdigit():\n",
        "      s+=1\n",
        "  return f\"Harfler: \" {h}, \"sayılar:\" {s}\"\n",
        "print "
      ],
      "execution_count": null,
      "outputs": []
    },
    {
      "cell_type": "code",
      "metadata": {
        "id": "sDQpCOvcyIzf"
      },
      "source": [
        "def harf_sayi_sayisi(cümle):\n",
        "  h = 0\n",
        "  s = 0\n",
        "  for i in cümle:\n",
        "    if i.isalpha():\n",
        "      h+=1\n",
        "    elif i.isdigit():\n",
        "      s+=1\n",
        "  return f'Harfler: {h}, sayılar {s}'\n",
        "print(harf_sayi_sayisi(\"10'a kadar saysam ve sonrasında hayat bayram olsa.\"))"
      ],
      "execution_count": null,
      "outputs": []
    },
    {
      "cell_type": "code",
      "metadata": {
        "id": "8UT3bI5gzgLL"
      },
      "source": [
        ""
      ],
      "execution_count": null,
      "outputs": []
    },
    {
      "cell_type": "markdown",
      "metadata": {
        "id": "txt134wgPGVZ"
      },
      "source": [
        "```\n",
        "9.Stringin içindeki en büyük ve en küçük sayıyı veren fonksiyon yazalım.\n",
        "print(büyük_kücük(\"3 2 4 6 -1 12\")) --> 12 -1\n",
        "```\n",
        "\n"
      ]
    },
    {
      "cell_type": "code",
      "metadata": {
        "colab": {
          "base_uri": "https://localhost:8080/",
          "height": 135
        },
        "id": "xkObkOlbzire",
        "outputId": "05e3806a-d76b-4b78-846c-a911c40d9f4f"
      },
      "source": [
        "def büyük_küçük(deger):\n",
        "  deger.split()\n",
        "liste=(map(int, degr.split()))\n",
        "return f\"{max(liste)} {min(liste}\"\n",
        "print(büyük_küçük(\"3 4 5 67 9 -1\"))"
      ],
      "execution_count": null,
      "outputs": [
        {
          "output_type": "error",
          "ename": "SyntaxError",
          "evalue": "ignored",
          "traceback": [
            "\u001b[0;36m  File \u001b[0;32m\"<ipython-input-9-2cc97d07391b>\"\u001b[0;36m, line \u001b[0;32m4\u001b[0m\n\u001b[0;31m    return f\"{max(liste)} {min(liste}\"\u001b[0m\n\u001b[0m          ^\u001b[0m\n\u001b[0;31mSyntaxError\u001b[0m\u001b[0;31m:\u001b[0m f-string: expecting '}'\n"
          ]
        }
      ]
    },
    {
      "cell_type": "code",
      "metadata": {
        "id": "0KNb9Hzxzie-"
      },
      "source": [
        "def buyuk_kucuk(deger):\n",
        "  liste= list(map(int, deger.split()))\n",
        "  return f'{max(liste)} {min(liste)}'\n",
        "print(buyuk_kucuk(\"3 2 4 6 -1 12\"))"
      ],
      "execution_count": null,
      "outputs": []
    },
    {
      "cell_type": "markdown",
      "metadata": {
        "id": "RhGJCDaNPGIS"
      },
      "source": [
        "```\n",
        "10. Harfler ve boşluklardan oluşan stringin içindeki kelime nin uzunluğu beş veya dah fazla ise o kelimeyi ters çeviren bir fonksiyon yazalım.\n",
        "print(ters_döndür(\"Ah bir data scientist olabilsem:)\")) --> Ah bir data tsitneics ):meslibalo\n",
        "```\n",
        "\n"
      ]
    },
    {
      "cell_type": "code",
      "metadata": {
        "id": "_bfAcxFu0s0V"
      },
      "source": [
        "def ters_döndür(yazı):\n",
        "  liste = yazı.split()\n",
        "  yeni = \"\"\n",
        "  for i in liste :\n",
        "    if len(i) >= 5:\n",
        "      yeni += i [::-1] + \" \"\n",
        "    else:\n",
        "      yeni += i + \" \" \n",
        "  return yeni.strip()\n"
      ],
      "execution_count": null,
      "outputs": []
    },
    {
      "cell_type": "code",
      "metadata": {
        "id": "ixmJGJua0sxL",
        "colab": {
          "base_uri": "https://localhost:8080/"
        },
        "outputId": "e114ac5d-e87e-4e7c-fd4c-70181724dfbb"
      },
      "source": [
        "def my_function(*kids):\n",
        "  print(\"The youngest child is \" + kids[1])\n",
        "\n",
        "my_function(\"Emil\", \"Tobias\", \"Linus\")"
      ],
      "execution_count": null,
      "outputs": [
        {
          "output_type": "stream",
          "text": [
            "The youngest child is Tobias\n"
          ],
          "name": "stdout"
        }
      ]
    },
    {
      "cell_type": "code",
      "metadata": {
        "id": "eTSCFWmk0soV",
        "colab": {
          "base_uri": "https://localhost:8080/"
        },
        "outputId": "40ce6e5b-5bee-4634-b698-84d0c1219966"
      },
      "source": [
        "def my_function(child3, child2, child1):\n",
        "  print(\"The youngest child is \" + child3)\n",
        "\n",
        "my_function(child1 = \"Emil\", child2 = \"Tobias\", child3 = \"Linus\")"
      ],
      "execution_count": null,
      "outputs": [
        {
          "output_type": "stream",
          "text": [
            "The youngest child is Linus\n"
          ],
          "name": "stdout"
        }
      ]
    },
    {
      "cell_type": "code",
      "metadata": {
        "id": "NRw4Q2KviSap"
      },
      "source": [
        ""
      ],
      "execution_count": null,
      "outputs": []
    }
  ]
}