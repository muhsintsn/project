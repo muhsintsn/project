{
  "nbformat": 4,
  "nbformat_minor": 0,
  "metadata": {
    "colab": {
      "name": "Fibonacci sayı dizisi .ipynb",
      "provenance": [],
      "collapsed_sections": [],
      "authorship_tag": "ABX9TyPglVieC1AbBA7kEAlFsZGn",
      "include_colab_link": true
    },
    "kernelspec": {
      "name": "python3",
      "display_name": "Python 3"
    },
    "language_info": {
      "name": "python"
    }
  },
  "cells": [
    {
      "cell_type": "markdown",
      "metadata": {
        "id": "view-in-github",
        "colab_type": "text"
      },
      "source": [
        "<a href=\"https://colab.research.google.com/github/muhsintsn/python-project/blob/main/Fibonacci_say%C4%B1_dizisi_.ipynb\" target=\"_parent\"><img src=\"https://colab.research.google.com/assets/colab-badge.svg\" alt=\"Open In Colab\"/></a>"
      ]
    },
    {
      "cell_type": "code",
      "metadata": {
        "id": "zUc8xqdte3bf"
      },
      "source": [
        ""
      ],
      "execution_count": null,
      "outputs": []
    },
    {
      "cell_type": "markdown",
      "metadata": {
        "id": "MM-ryBe6fblb"
      },
      "source": [
        "8 \n",
        "Bir soruda benden     Fibonacci dizisini 0 ile 50 arasında almak için bir Python programı yazın .\n",
        "Not: Fibonacci Dizisi,\n",
        "0, 1, 1, 2, 3, 5, 8, 13, 21, sayıları dizisidir .\n",
        "Her sonraki sayı, kendisinden önceki iki sayı toplanarak bulunur.\n",
        "Beklenen Çıktı : 1 1 2 3 5 8 13 21 34\n"
      ]
    },
    {
      "cell_type": "code",
      "metadata": {
        "id": "qPJrtJDhbnSN",
        "colab": {
          "base_uri": "https://localhost:8080/"
        },
        "outputId": "8e332b1d-76c7-4353-dc6f-0216c0184ee4"
      },
      "source": [
        "x, y = 0, 1\n",
        "fibonacci=[]\n",
        "while x + y < 53:\n",
        "    x, y = y, x+y\n",
        "    fibonacci.append(y)\n",
        "print(\"fibonacci sayıları:\", fibonacci)"
      ],
      "execution_count": 2,
      "outputs": [
        {
          "output_type": "stream",
          "text": [
            "fibonacci sayıları: [1, 2, 3, 5, 8, 13, 21, 34]\n"
          ],
          "name": "stdout"
        }
      ]
    },
    {
      "cell_type": "code",
      "metadata": {
        "id": "cx5Qf4xdbnPM",
        "colab": {
          "base_uri": "https://localhost:8080/"
        },
        "outputId": "f1a7bbdf-e425-4a4b-d5d4-243e433c8c5d"
      },
      "source": [
        "liste = [0 ,1]\n",
        "total = 0\n",
        "while True:\n",
        "    total = liste[-2] + total\n",
        "    liste.append(total)\n",
        "    if total + liste[-2] > 55:\n",
        "        break\n",
        "print(' '.join('{}'.format(i) for i in liste))"
      ],
      "execution_count": null,
      "outputs": [
        {
          "output_type": "stream",
          "text": [
            "0 1 0 1 1 2 3 5 8 13 21 34 55\n"
          ],
          "name": "stdout"
        }
      ]
    },
    {
      "cell_type": "code",
      "metadata": {
        "colab": {
          "base_uri": "https://localhost:8080/"
        },
        "id": "3u9n_sxHiCs-",
        "outputId": "15922ab6-b82a-430f-a868-adbc6da23d02"
      },
      "source": [
        "liste = [0 ,1]\n",
        "total = 0\n",
        "while True:\n",
        "    total = liste[-2] + total\n",
        "    print(liste[-2], liste, total)\n",
        "    liste.append(total)\n",
        "    if total + liste[-2] > 5:\n",
        "        break\n",
        "print(' '.join('{}'.format(i) for i in liste))"
      ],
      "execution_count": null,
      "outputs": [
        {
          "output_type": "stream",
          "text": [
            "0 [0, 1] 0\n",
            "1 [0, 1, 0] 1\n",
            "0 [0, 1, 0, 1] 1\n",
            "1 [0, 1, 0, 1, 1] 2\n",
            "1 [0, 1, 0, 1, 1, 2] 3\n",
            "2 [0, 1, 0, 1, 1, 2, 3] 5\n",
            "0 1 0 1 1 2 3 5\n"
          ],
          "name": "stdout"
        }
      ]
    },
    {
      "cell_type": "code",
      "metadata": {
        "id": "MrlOMxQ_iINd"
      },
      "source": [
        ""
      ],
      "execution_count": null,
      "outputs": []
    }
  ]
}