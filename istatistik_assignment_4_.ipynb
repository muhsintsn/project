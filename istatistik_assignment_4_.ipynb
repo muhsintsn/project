{
  "nbformat": 4,
  "nbformat_minor": 0,
  "metadata": {
    "colab": {
      "name": "istatistik assignment 4 .ipynb",
      "provenance": [],
      "collapsed_sections": [],
      "authorship_tag": "ABX9TyO+Y92LrzBeVdcgnKYCnhbB",
      "include_colab_link": true
    },
    "kernelspec": {
      "name": "python3",
      "display_name": "Python 3"
    },
    "language_info": {
      "name": "python"
    }
  },
  "cells": [
    {
      "cell_type": "markdown",
      "metadata": {
        "id": "view-in-github",
        "colab_type": "text"
      },
      "source": [
        "<a href=\"https://colab.research.google.com/github/muhsintsn/python_Assignment_Project/blob/main/istatistik_assignment_4_.ipynb\" target=\"_parent\"><img src=\"https://colab.research.google.com/assets/colab-badge.svg\" alt=\"Open In Colab\"/></a>"
      ]
    },
    {
      "cell_type": "code",
      "metadata": {
        "id": "AI-G9zlcnUMB"
      },
      "source": [
        "import numpy as np\n",
        "from scipy import stats\n",
        "import matplotlib.pyplot as plt"
      ],
      "execution_count": 2,
      "outputs": []
    },
    {
      "cell_type": "markdown",
      "metadata": {
        "id": "0tRFeh0r9itP"
      },
      "source": [
        "EXERCISE 1. \n"
      ]
    },
    {
      "cell_type": "markdown",
      "metadata": {
        "id": "idIpJjEdrRSb"
      },
      "source": [
        "PART 1: A salesperson has found that the probability of a sale on a\n",
        "single contact is approximately .3. If the salesperson contacts 10\n",
        "prospects, what is the approximate probability of making at least\n",
        "one sale?\n",
        "\n",
        "Her temastan sonra başarı şansı 0.3 (%30)\n",
        "\n",
        "p = 0.3\n",
        "\n",
        "toplam deneme örneklem \n",
        "\n",
        "n = 10\n",
        "\n",
        "her deneme birbirinden bağımsız\n",
        "\n",
        "x = 1 \n",
        "\n",
        "ortalama başarı şansı  0.3 x 10 = 3\n",
        "\n",
        "P(X≥1) = P(X=1)+P(X=2)+P(X=3)+P(X=4)+...+P(X=10) \n",
        "\n",
        "P(X≥1) = 1 - P(X=0)\n",
        "\n",
        "\n",
        "\n",
        "\n",
        "\n",
        "\n",
        "\n",
        "\n"
      ]
    },
    {
      "cell_type": "markdown",
      "metadata": {
        "id": "zlXSyqzW-jNX"
      },
      "source": [
        " P(X=x) = n! /\n",
        "          x! (n-x)!  * p^x * (1-p)^n-x"
      ]
    },
    {
      "cell_type": "code",
      "metadata": {
        "id": "GRZpRs_z-ht4"
      },
      "source": [
        ""
      ],
      "execution_count": null,
      "outputs": []
    },
    {
      "cell_type": "code",
      "metadata": {
        "colab": {
          "base_uri": "https://localhost:8080/"
        },
        "id": "bGAPfwNEozad",
        "outputId": "8b2e2b35-e151-438c-cbd2-e33782c5a500"
      },
      "source": [
        "# P(X=0) için\n",
        "p = 0.3\n",
        "n = 10\n",
        "x = 0\n",
        "\n",
        "#cdf(x, n, p, loc=0) Cumulative density function\n",
        "stats.binom.cdf(x, n, p) \n"
      ],
      "execution_count": null,
      "outputs": [
        {
          "output_type": "execute_result",
          "data": {
            "text/plain": [
              "0.028247524899999984"
            ]
          },
          "metadata": {},
          "execution_count": 57
        }
      ]
    },
    {
      "cell_type": "code",
      "metadata": {
        "colab": {
          "base_uri": "https://localhost:8080/"
        },
        "id": "MEwIc39hozUg",
        "outputId": "fc930b4a-469d-49ad-910c-c524f646baca"
      },
      "source": [
        "# P(X=1) için\n",
        "p = 0.3\n",
        "n = 10\n",
        "x1 = 1\n",
        "\n",
        "stats.binom.cdf(x1, n, p) \n"
      ],
      "execution_count": null,
      "outputs": [
        {
          "output_type": "execute_result",
          "data": {
            "text/plain": [
              "0.1493083459"
            ]
          },
          "metadata": {},
          "execution_count": 56
        }
      ]
    },
    {
      "cell_type": "code",
      "metadata": {
        "colab": {
          "base_uri": "https://localhost:8080/"
        },
        "id": "SSq_imKMoCRM",
        "outputId": "5517a0ff-3a00-428b-96a1-33a0f2ca2e8f"
      },
      "source": [
        "probability_sale = 1 - stats.binom.cdf(x, n, p) \n",
        "print (\"Probability of making at least one sale\", \"%\", probability_sale * 100)"
      ],
      "execution_count": null,
      "outputs": [
        {
          "output_type": "stream",
          "name": "stdout",
          "text": [
            "Probability of making at least one sale % 97.17524751\n"
          ]
        }
      ]
    },
    {
      "cell_type": "code",
      "metadata": {
        "id": "w94xnlUvoCH5"
      },
      "source": [
        ""
      ],
      "execution_count": null,
      "outputs": []
    },
    {
      "cell_type": "markdown",
      "metadata": {
        "id": "husYCDTr9yHq"
      },
      "source": [
        "2.\tTen coins are tossed simultaneously. Find the probability of getting\n",
        "\n",
        "(i) at least seven heads\n",
        "\n",
        "(ii) exactly seven heads\n",
        "\n",
        "(iii)at most seven heads\n",
        "\n"
      ]
    },
    {
      "cell_type": "markdown",
      "metadata": {
        "id": "y3V4VM4D-Nfx"
      },
      "source": [
        "n = 10\n",
        "\n",
        "p = 0.5"
      ]
    },
    {
      "cell_type": "code",
      "metadata": {
        "colab": {
          "base_uri": "https://localhost:8080/"
        },
        "id": "EjHPkDtU96u_",
        "outputId": "e838b186-cf66-497a-a06b-d52a9eb58c5d"
      },
      "source": [
        "# (i) at least seven heads\n",
        "# P(En az  7  heads) = P(X=7) + P(X=8) + P(X=9) + P(X=10)  olacağında ilk önce 6 ya kadar olanı bulup 1 den çıkartırız. \n",
        "n = 10\n",
        "p = 0.5\n",
        "x_1 = 6\n",
        "stats.binom.cdf(x_1, n, p)"
      ],
      "execution_count": null,
      "outputs": [
        {
          "output_type": "execute_result",
          "data": {
            "text/plain": [
              "0.828125"
            ]
          },
          "metadata": {},
          "execution_count": 70
        }
      ]
    },
    {
      "cell_type": "code",
      "metadata": {
        "colab": {
          "base_uri": "https://localhost:8080/"
        },
        "id": "JnpjV3Zz96r6",
        "outputId": "1c7179f6-ed96-4349-9fdb-eaef0367b90d"
      },
      "source": [
        "least_seven_heads = 1 - stats.binom.cdf(x_1, n, p)\n",
        "print(\"The probability of getting at least 7 heads is\", least_seven_heads )"
      ],
      "execution_count": null,
      "outputs": [
        {
          "output_type": "stream",
          "name": "stdout",
          "text": [
            "The probability of getting at least 7 heads is 0.171875\n"
          ]
        }
      ]
    },
    {
      "cell_type": "code",
      "metadata": {
        "colab": {
          "base_uri": "https://localhost:8080/"
        },
        "id": "GeZG1JvZ96mw",
        "outputId": "a5acc343-e55a-41d2-f749-7eeb6dd2a9b2"
      },
      "source": [
        "#(ii) exactly seven heads\n",
        "# PMF (Probability Mass Function) sadece 7 gelme olasılığını verdi için pmf kullanırız.  \n",
        "n = 10\n",
        "p = 0.5\n",
        "x_2 = 7\n",
        "\n",
        "print (\"exactly seven heads\", round(stats.binom.pmf(x_2, n, p), 5))"
      ],
      "execution_count": null,
      "outputs": [
        {
          "output_type": "stream",
          "name": "stdout",
          "text": [
            "exactly seven heads 0.11719\n"
          ]
        }
      ]
    },
    {
      "cell_type": "code",
      "metadata": {
        "id": "jW1VpmMjH-_e",
        "colab": {
          "base_uri": "https://localhost:8080/"
        },
        "outputId": "e498e57e-9e33-42cf-aeca-d65e031c86c0"
      },
      "source": [
        "#(iii) at most seven heads\n",
        "# P(En fazla 7 heads) = 1 - ( P(8) + P(9) + P(10) ) olacağında 7 den sonralarını 1 den çıkartırız. Veya 0 dan 7 dahil cdf ini alırız.\n",
        "n = 10\n",
        "p = 0.5\n",
        "x3 = 7\n",
        "print(\"most seven heads\", round(stats.binom.cdf(x3, n, p), 5))"
      ],
      "execution_count": null,
      "outputs": [
        {
          "output_type": "stream",
          "name": "stdout",
          "text": [
            "most seven heads 0.94531\n"
          ]
        }
      ]
    },
    {
      "cell_type": "code",
      "metadata": {
        "id": "GQNwFDzHPcPd"
      },
      "source": [
        ""
      ],
      "execution_count": null,
      "outputs": []
    },
    {
      "cell_type": "markdown",
      "metadata": {
        "id": "wDePeqkwOHCW"
      },
      "source": [
        "EXERCISE 2. The cycle time for trucks hauling concrete to a highway construction site is uniformly distributed over the interval 50 to 70 minutes. What is the probability that the cycle time exceeds 65 minutes if it is known that the cycle time exceeds 55 minutes?\n",
        "\n",
        "\n",
        "\n"
      ]
    },
    {
      "cell_type": "code",
      "metadata": {
        "id": "ne6v6HxbbGlS"
      },
      "source": [
        "Let Y = cycle time. Y has a uniform on the interval (50, 70)\n",
        "a=50 and b=70\n",
        "P(Y>65 | Y>55) = P(y>65 ∩ y>55) / P(Y>55) = P(Y>65) / P(Y>55)"
      ],
      "execution_count": null,
      "outputs": []
    },
    {
      "cell_type": "code",
      "metadata": {
        "colab": {
          "base_uri": "https://localhost:8080/"
        },
        "id": "0aD4tNbwZTag",
        "outputId": "06e9e0ee-1e17-4184-bf5e-46a84296a7f7"
      },
      "source": [
        "a= 50\n",
        "b = 70\n",
        "loc = 50 \n",
        "scale = b-a \n",
        "track_1= stats.uniform.cdf(70, loc=50, scale=20) -  stats.uniform.cdf(65, loc=50, scale=20)\n",
        "track_1"
      ],
      "execution_count": 24,
      "outputs": [
        {
          "output_type": "execute_result",
          "data": {
            "text/plain": [
              "0.25"
            ]
          },
          "metadata": {},
          "execution_count": 24
        }
      ]
    },
    {
      "cell_type": "code",
      "metadata": {
        "colab": {
          "base_uri": "https://localhost:8080/"
        },
        "id": "K3vGv90faeoX",
        "outputId": "b27fb639-cad8-4f08-fd39-9a9e64b90001"
      },
      "source": [
        "a= 50\n",
        "b = 70\n",
        "loc = 50 \n",
        "scale = b-a \n",
        "track_2= stats.uniform.cdf(70, loc=50, scale=20) -  stats.uniform.cdf(55, loc=50, scale=20)\n",
        "track_2"
      ],
      "execution_count": 25,
      "outputs": [
        {
          "output_type": "execute_result",
          "data": {
            "text/plain": [
              "0.75"
            ]
          },
          "metadata": {},
          "execution_count": 25
        }
      ]
    },
    {
      "cell_type": "code",
      "metadata": {
        "colab": {
          "base_uri": "https://localhost:8080/"
        },
        "id": "SA_7mFGGayXW",
        "outputId": "8663f195-540e-45b6-b38c-ac38413c0afe"
      },
      "source": [
        "#P(Y>65 | Y>55) = P(y>65 ∩ y>55) / P(Y>55) = P(Y>65) / P(Y>55)\n",
        "Probability_of_X  = track_1 / track_2\n",
        "print(\"The probability that the cycle time exceeds 65 minutes\", \"%\",Probability_of_X * 100) "
      ],
      "execution_count": 30,
      "outputs": [
        {
          "output_type": "stream",
          "name": "stdout",
          "text": [
            "the probability that the cycle time exceeds 65 minutes % 33.33333333333333\n"
          ]
        }
      ]
    },
    {
      "cell_type": "code",
      "metadata": {
        "id": "V_m4szOxW7iy"
      },
      "source": [
        ""
      ],
      "execution_count": null,
      "outputs": []
    },
    {
      "cell_type": "markdown",
      "metadata": {
        "id": "DZdYedKUQYWb"
      },
      "source": [
        "EXERCISE 3. The width of bolts of fabric is normally distributed with mean 950 mm (millimeters) and standard deviation 10 mm.\n",
        "\n",
        "  (i) What is the probability that a randomly chosen bolt has a width of between 947 and 958mm? \n",
        "  \n",
        "  (ii) What is the appropriate value for C such that a randomly chosen bolt has a width less than C with probability .8531? \n",
        "  \n",
        " \n"
      ]
    },
    {
      "cell_type": "code",
      "metadata": {
        "colab": {
          "base_uri": "https://localhost:8080/"
        },
        "id": "mnNlt2BDRCqs",
        "outputId": "b106b8c7-dd30-487f-d81b-6488ee78767a"
      },
      "source": [
        "#Solution (i) : What is the probability that a randomly chosen bolt has a width of between 947 and 958mm?\n",
        "mean = 950\n",
        "std = 10\n",
        "nd_a = stats.norm.cdf(947, mean, std)\n",
        "nd_a\n",
        "nd_b =stats.norm.cdf(958, mean, std)\n",
        "nd_b\n",
        "print(nd_b - nd_a)"
      ],
      "execution_count": 9,
      "outputs": [
        {
          "output_type": "stream",
          "name": "stdout",
          "text": [
            "0.406056023605556\n"
          ]
        }
      ]
    },
    {
      "cell_type": "code",
      "metadata": {
        "colab": {
          "base_uri": "https://localhost:8080/"
        },
        "id": "ODayqnktR7Bd",
        "outputId": "7a3c997b-b1c4-499a-96af-5868b962dda8"
      },
      "source": [
        "z947 = stats.norm.ppf(nd_a)\n",
        "z947"
      ],
      "execution_count": 12,
      "outputs": [
        {
          "output_type": "execute_result",
          "data": {
            "text/plain": [
              "-0.3"
            ]
          },
          "metadata": {},
          "execution_count": 12
        }
      ]
    },
    {
      "cell_type": "code",
      "metadata": {
        "colab": {
          "base_uri": "https://localhost:8080/"
        },
        "id": "RxTFyQAySHkc",
        "outputId": "09779ee8-8387-468f-9e8e-b230a3ced16c"
      },
      "source": [
        "z958 = stats.norm.ppf(nd_b)\n",
        "z958"
      ],
      "execution_count": 13,
      "outputs": [
        {
          "output_type": "execute_result",
          "data": {
            "text/plain": [
              "0.8000000000000002"
            ]
          },
          "metadata": {},
          "execution_count": 13
        }
      ]
    },
    {
      "cell_type": "code",
      "metadata": {
        "id": "w2agXfVhoB3V",
        "colab": {
          "base_uri": "https://localhost:8080/"
        },
        "outputId": "2b87316d-ff46-4c36-b557-09b68914f9a7"
      },
      "source": [
        "c =stats.norm.cdf(950, 950, 10)\n",
        "z950 = stats.norm.ppf(c)\n",
        "z950"
      ],
      "execution_count": 14,
      "outputs": [
        {
          "output_type": "execute_result",
          "data": {
            "text/plain": [
              "0.0"
            ]
          },
          "metadata": {},
          "execution_count": 14
        }
      ]
    },
    {
      "cell_type": "code",
      "metadata": {
        "colab": {
          "base_uri": "https://localhost:8080/"
        },
        "id": "ApN9IAKCQ9-i",
        "outputId": "0499cc17-9419-4fac-8f23-e04b65d798f0"
      },
      "source": [
        "#Solution (ii) : What is the appropriate value for C such that a randomly chosen bolt has a width less than C with probability .8531?\n",
        "#Zc = C − μ / σ P(C < Zc) = 0.8531\n",
        "#Z value= 0.8531\n",
        "\n",
        "z1 = stats.norm.ppf(0.8531)\n",
        "z1\n"
      ],
      "execution_count": 15,
      "outputs": [
        {
          "output_type": "execute_result",
          "data": {
            "text/plain": [
              "1.0498219096264123"
            ]
          },
          "metadata": {},
          "execution_count": 15
        }
      ]
    },
    {
      "cell_type": "code",
      "metadata": {
        "id": "RHlKpjZuQKEc",
        "colab": {
          "base_uri": "https://localhost:8080/"
        },
        "outputId": "78041bdf-6880-44b5-934f-18d56f64a519"
      },
      "source": [
        "C = z1 * 10 + 950\n",
        "C"
      ],
      "execution_count": 16,
      "outputs": [
        {
          "output_type": "execute_result",
          "data": {
            "text/plain": [
              "960.4982190962642"
            ]
          },
          "metadata": {},
          "execution_count": 16
        }
      ]
    },
    {
      "cell_type": "code",
      "metadata": {
        "colab": {
          "base_uri": "https://localhost:8080/"
        },
        "id": "F_FGXiRpVJvB",
        "outputId": "ede24e43-7670-4a59-9afc-2194b9a5b865"
      },
      "source": [
        "dist = stats.norm(mean, std)\n",
        "dist\n"
      ],
      "execution_count": 21,
      "outputs": [
        {
          "output_type": "execute_result",
          "data": {
            "text/plain": [
              "<scipy.stats._distn_infrastructure.rv_frozen at 0x7fab875306d0>"
            ]
          },
          "metadata": {},
          "execution_count": 21
        }
      ]
    },
    {
      "cell_type": "code",
      "metadata": {
        "colab": {
          "base_uri": "https://localhost:8080/"
        },
        "id": "i6VxSHYYVwuJ",
        "outputId": "bb8bed89-6662-4936-b7c7-e2851f8b6c54"
      },
      "source": [
        "dist.ppf(0.8532)"
      ],
      "execution_count": 22,
      "outputs": [
        {
          "output_type": "execute_result",
          "data": {
            "text/plain": [
              "960.5025693315208"
            ]
          },
          "metadata": {},
          "execution_count": 22
        }
      ]
    },
    {
      "cell_type": "code",
      "metadata": {
        "id": "XHecc-cxV0MH"
      },
      "source": [
        ""
      ],
      "execution_count": null,
      "outputs": []
    }
  ]
}